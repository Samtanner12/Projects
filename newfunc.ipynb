{
 "cells": [
  {
   "cell_type": "code",
   "execution_count": 1,
   "metadata": {},
   "outputs": [
    {
     "name": "stdout",
     "output_type": "stream",
     "text": [
      "Epoch 1/10\n",
      "3125/3125 [==============================] - 17s 5ms/step - loss: 2.1253 - accuracy: 0.3605\n",
      "Epoch 2/10\n",
      "3125/3125 [==============================] - 16s 5ms/step - loss: 0.9436 - accuracy: 0.7443\n",
      "Epoch 3/10\n",
      "3125/3125 [==============================] - 16s 5ms/step - loss: 0.5985 - accuracy: 0.8531\n",
      "Epoch 4/10\n",
      "3125/3125 [==============================] - 16s 5ms/step - loss: 0.4609 - accuracy: 0.8955\n",
      "Epoch 5/10\n",
      "3125/3125 [==============================] - 16s 5ms/step - loss: 0.3932 - accuracy: 0.9077\n",
      "Epoch 6/10\n",
      "3125/3125 [==============================] - 17s 5ms/step - loss: 0.3746 - accuracy: 0.9133\n",
      "Epoch 7/10\n",
      "3125/3125 [==============================] - 16s 5ms/step - loss: 0.3302 - accuracy: 0.9281\n",
      "Epoch 8/10\n",
      "3125/3125 [==============================] - 16s 5ms/step - loss: 0.3042 - accuracy: 0.9265\n",
      "Epoch 9/10\n",
      "3125/3125 [==============================] - 16s 5ms/step - loss: 0.2978 - accuracy: 0.9348\n",
      "Epoch 10/10\n",
      "3125/3125 [==============================] - 16s 5ms/step - loss: 0.2751 - accuracy: 0.9374\n",
      "313/313 [==============================] - 1s 2ms/step - loss: 0.2862 - accuracy: 0.9224\n",
      "[0.28624510765075684, 0.9223999977111816]\n"
     ]
    },
    {
     "ename": "",
     "evalue": "",
     "output_type": "error",
     "traceback": [
      "\u001b[1;31mThe Kernel crashed while executing code in the the current cell or a previous cell. Please review the code in the cell(s) to identify a possible cause of the failure. Click <a href='https://aka.ms/vscodeJupyterKernelCrash'>here</a> for more info. View Jupyter <a href='command:jupyter.viewOutput'>log</a> for further details."
     ]
    }
   ],
   "source": [
    "import tensorflow as tf\n",
    "import numpy as np\n",
    "\n",
    "train_in = np.random.randint(0,90,(100000,1))\n",
    "\n",
    "train_out = train_in.flatten()\n",
    "\n",
    "test_in = np.random.randint(0,90,(10000,1))\n",
    "test_out =test_in.flatten()\n",
    "\n",
    "model = tf.keras.models.Sequential([tf.keras.layers.Flatten(input_shape=(1,1)),\n",
    "                                tf.keras.layers.Dense(1024, activation= 'sigmoid'),\n",
    "                                tf.keras.layers.Dense(512, activation= 'sigmoid'),\n",
    "                                tf.keras.layers.Dense(256, activation= 'sigmoid'),\n",
    "                                tf.keras.layers.Dense(128, activation= 'sigmoid'),\n",
    "                                tf.keras.layers.Dense(91, activation= tf.nn.softmax)])\n",
    "\n",
    "model.compile(optimizer = tf.optimizers.Adam(),\n",
    "            loss ='sparse_categorical_crossentropy',\n",
    "            metrics = ['accuracy'])\n",
    "\n",
    "model.fit(train_in, train_out, epochs =10)\n",
    "print(model.evaluate(test_in,test_out))\n",
    "\n"
   ]
  },
  {
   "cell_type": "code",
   "execution_count": 5,
   "metadata": {},
   "outputs": [
    {
     "name": "stdout",
     "output_type": "stream",
     "text": [
      "1/1 [==============================] - 0s 36ms/step\n",
      "you are :  89\n"
     ]
    }
   ],
   "source": [
    "age = 93\n",
    "prediction = model.predict([age])\n",
    "print(\"you are : \",np.argmax(prediction[0]))"
   ]
  }
 ],
 "metadata": {
  "kernelspec": {
   "display_name": "Python 3.9.13 ('Racket': venv)",
   "language": "python",
   "name": "python3"
  },
  "language_info": {
   "codemirror_mode": {
    "name": "ipython",
    "version": 3
   },
   "file_extension": ".py",
   "mimetype": "text/x-python",
   "name": "python",
   "nbconvert_exporter": "python",
   "pygments_lexer": "ipython3",
   "version": "3.9.13 (tags/v3.9.13:6de2ca5, May 17 2022, 16:36:42) [MSC v.1929 64 bit (AMD64)]"
  },
  "orig_nbformat": 4,
  "vscode": {
   "interpreter": {
    "hash": "50196961ad2927027f66bea154cd55a8a17688cbd6b9e031fd82c1b7086be43a"
   }
  }
 },
 "nbformat": 4,
 "nbformat_minor": 2
}
